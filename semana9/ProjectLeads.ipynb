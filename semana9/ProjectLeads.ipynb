{
 "cells": [
  {
   "cell_type": "markdown",
   "metadata": {},
   "source": [
    "# ***Sobre o projeto***\n",
    "\n",
    "O projeto prático é uma etapa individual e opcional do AceleraDev. Ele deve ser desenvolvido de acordo com os requisitos e orientações descritos no módulo “Projeto Prático”.\n",
    "\n",
    "O versionamento do código do projeto deverá ser feito em uma repositório no GitHub ou GitLab e a apresentação deverá ser publicada como um vídeo no YouTube. O vídeo de apresentação é opcional, porém é muito interessante fazê-lo para explicar o processo de desenvolvimento do seu projeto.\n",
    "\n",
    "Você tem até o dia 25/08/2020 para submeter seu projeto! Abaixo, trazemos mais informações e dicas para te ajudar :)\n",
    "\n",
    "***Sobre o vídeo***\n",
    "\n",
    "Objetividade é muito importante - fale naturalmente e sem ler, por favor! :) Recomendamos que você faça um video-call e grave este call. Assim, você poderá ficar à vontade para compartilhar a tela e mostrar o código ou outra parte importante do seu projeto. O vídeo deve ter no máximo 10 minutos.\n",
    "\n",
    "Abaixo, adicionamos uma sugestão de roteiro:\n",
    "\n",
    "    1 - Apresentação pessoal\n",
    "“Oi, pessoal…, eu me chamo _____ e vou apresentar para vocês o projeto prático que fiz da Aceleração _______ da Codenation.”\n",
    "\n",
    "    2 - Apresentação do projeto\n",
    "Descrição do projeto e desenvolvimento do processo que você utilizou para resolver o problema;\n",
    "Como você definiu as etapas e atividades e como se organizou para desenvolver o projeto;\n",
    "Tecnologias utilizadas e eficácia;\n",
    "Aprendizados destacados durante o processo e ao final do projeto;\n",
    "Duas principais dificuldades, e como foram contornadas;\n",
    "Dois principais acertos ou escolhas acertadas que fizeram diferença no projeto e por quê;\n",
    "Demonstração prática da aplicação.\n"
   ]
  },
  {
   "cell_type": "markdown",
   "metadata": {},
   "source": [
    "# ***Objetivo***\n",
    "\n",
    "O objetivo deste produto é fornecer um serviço automatizado que recomenda leads para um usuário dado sua atual lista de clientes (Portfólio).\n",
    "\n",
    "***Contextualização***\n",
    "\n",
    "Algumas empresas gostariam de saber quem são as demais empresas em um determinado mercado (população) que tem maior probabilidade se tornarem seus próximos clientes. Ou seja, a sua solução deve encontrar no mercado quem são os leads mais aderentes dado as características dos clientes presentes no portfólio do usuário.\n",
    "\n",
    "Além disso, sua solução deve ser agnóstica ao usuário. Qualquer usuário com uma lista de clientes que queira explorar esse mercado pode extrair valor do serviço.\n",
    "\n",
    "Para o desafio, deverão ser consideradas as seguintes bases:\n",
    "\n",
    "Mercado: Base com informações sobre as empresas do Mercado a ser considerado. Portfolio 1: Ids dos clientes da empresa 1 Portfolio 2: Ids dos clientes da empresa 2 Portfolio 3: Ids dos clientes da empresa 3\n",
    "\n",
    "Obs: todas as empresas(ids) dos portfolios estão contidos no Mercado(base de população)."
   ]
  },
  {
   "cell_type": "markdown",
   "metadata": {},
   "source": [
    "# Requisitos técnicos obrigatórios\n",
    "\n",
    "    - Utilizar técnicas de data science e machine learning para desenvolver o projeto;\n",
    "    \n",
    "    - Apresentar o desenvolvimento e outputs do modelo em um Jupyter Notebook ou outra tecnologia de apresentação de Output de modelos de Machine Learning;\n",
    "    \n",
    "    - A análise deve considerar os seguintes pontos: análise exploratória dos dados, tratamento dos dados, avaliação de               algoritmos, treinamento do modelo, avaliação de performance do modelo e visualização dos resultados;\n",
    "    \n",
    "    - Para a apresentação do projeto, o tempo entre o treinamento do modelo e o output deve ser menor que 20 min."
   ]
  },
  {
   "cell_type": "markdown",
   "metadata": {},
   "source": [
    "<h2>Início da EDA</h2>"
   ]
  },
  {
   "cell_type": "code",
   "execution_count": 1,
   "metadata": {},
   "outputs": [],
   "source": [
    "import pandas as pd"
   ]
  },
  {
   "cell_type": "code",
   "execution_count": 2,
   "metadata": {},
   "outputs": [],
   "source": [
    "#import de dados\n",
    "market_data = pd.read_csv('estaticos_market.csv', index_col = 0)\n",
    "port_1 = pd.read_csv('estaticos_portfolio1.csv', index_col = 0)\n",
    "portifolio2 = pd.read_csv('estaticos_portfolio2.csv', index_col = 0)\n",
    "portifolio3 = pd.read_csv('estaticos_portfolio3.csv', index_col = 0)"
   ]
  },
  {
   "cell_type": "code",
   "execution_count": 3,
   "metadata": {},
   "outputs": [
    {
     "data": {
      "text/plain": [
       "(462298, 181)"
      ]
     },
     "execution_count": 3,
     "metadata": {},
     "output_type": "execute_result"
    }
   ],
   "source": [
    "market_data.shape"
   ]
  },
  {
   "cell_type": "code",
   "execution_count": 4,
   "metadata": {},
   "outputs": [
    {
     "data": {
      "text/plain": [
       "(555, 181)"
      ]
     },
     "execution_count": 4,
     "metadata": {},
     "output_type": "execute_result"
    }
   ],
   "source": [
    "#Verificando dimensões\n",
    "port_1.shape"
   ]
  },
  {
   "cell_type": "code",
   "execution_count": 5,
   "metadata": {},
   "outputs": [
    {
     "name": "stdout",
     "output_type": "stream",
     "text": [
      " Shape Port_2 antes de merge: (566, 1)   Shape Port_2 depois do merge: (566, 181)\n"
     ]
    }
   ],
   "source": [
    "#merge para encontrar os dados correspondentes ao ID para portifolio 2\n",
    "port_2 = pd.merge(portifolio2, market_data, on = 'id', how = 'left')\n",
    "print(f\" Shape Port_2 antes de merge: {portifolio2.shape}   Shape Port_2 depois do merge: {port_2.shape}\")"
   ]
  },
  {
   "cell_type": "code",
   "execution_count": 6,
   "metadata": {},
   "outputs": [
    {
     "name": "stdout",
     "output_type": "stream",
     "text": [
      " Shape Port_3 antes de merge: (265, 1)   Shape Port_3 depois do merge: (265, 181)\n"
     ]
    }
   ],
   "source": [
    "#merge para encontrar os dados correspondentes ao ID para portifolio 3\n",
    "port_3 = pd.merge(portifolio3, market_data, on = 'id', how = 'left')\n",
    "print(f\" Shape Port_3 antes de merge: {portifolio3.shape}   Shape Port_3 depois do merge: {port_3.shape}\")"
   ]
  },
  {
   "cell_type": "markdown",
   "metadata": {},
   "source": [
    "***Verificando dados faltantes e dropando Colunas  para  as 4 bases onde contenha mais de 30% de valores nulos***"
   ]
  },
  {
   "cell_type": "code",
   "execution_count": 7,
   "metadata": {},
   "outputs": [],
   "source": [
    "#criando nomes para os dataframes\n",
    "market_data.name = 'market_data'\n",
    "port_1.name = 'port_1'\n",
    "port_2.name = 'port_2'\n",
    "port_3.name = 'port_3'\n",
    "\n",
    "#realizando o drop das colunas\n",
    "dados = [market_data, port_1, port_2, port_3]\n",
    "threeshold = .5 #porcentagem de corte para dados faltantes\n",
    "for x in dados:\n",
    "    faltantes = pd.DataFrame({'colunas': x.columns,\n",
    "                              'tipos': x.dtypes,\n",
    "                              'percentual_faltante': x.isna().sum() / x.shape[0]}\n",
    "                            )\n",
    "    cols = faltantes[faltantes['percentual_faltante'] > threeshold]['colunas'].values\n",
    "    x.drop(columns= cols, inplace= True)"
   ]
  },
  {
   "cell_type": "code",
   "execution_count": null,
   "metadata": {},
   "outputs": [],
   "source": [
    "#verificando se os datasets possuem as mesmas classes de entrada\n",
    "comparador = train\n",
    "comparador = comparador.drop('NU_NOTA_MT',axis=1) #o dataset answer por definição não tem essa coluna, por isso ela é removida\n",
    "verifica = set(comparador.columns).issubset(set(answer.columns))\n",
    "if verifica:\n",
    "    print('Datasets possuem as mesmas colunas - Saida:', verifica)\n",
    "else:\n",
    "    print('Datasets não possuem as mesmas colunas - Saida:', verifica)"
   ]
  },
  {
   "cell_type": "code",
   "execution_count": null,
   "metadata": {},
   "outputs": [],
   "source": [
    "#Uma vez constatado que o Dataset answer não possue as mesmas classes do dataset de treinamento\n",
    "#faz-se a verificação de quais classes ele possue.\n",
    "\n",
    "print('CLASSES DO DATASET (answer):')\n",
    "colunas = answer.columns\n",
    "leng,step = len(colunas)-3,3\n",
    "for i in range(0,leng,step):  \n",
    "    print(colunas[i],'--',colunas[i+1],'--',colunas[i+2])"
   ]
  },
  {
   "cell_type": "markdown",
   "metadata": {},
   "source": [
    "***Verificando dimensão de dados após o drop***"
   ]
  },
  {
   "cell_type": "code",
   "execution_count": 8,
   "metadata": {},
   "outputs": [
    {
     "name": "stdout",
     "output_type": "stream",
     "text": [
      "O shape do dataframe market_data é : (462298, 50)\n",
      "O shape do dataframe port_1 é : (555, 50)\n",
      "O shape do dataframe port_2 é : (566, 137)\n",
      "O shape do dataframe port_3 é : (265, 81)\n"
     ]
    }
   ],
   "source": [
    "# Função para printar os shapes dos dataframes\n",
    "def dfshape(data):\n",
    "    print(f\"O shape do dataframe {str(data.name)} é : {str(data.shape)}\")\n",
    "    \n",
    "for x in dados:\n",
    "    dfshape(x)"
   ]
  },
  {
   "cell_type": "code",
   "execution_count": 157,
   "metadata": {},
   "outputs": [
    {
     "data": {
      "text/plain": [
       "id                                            0\n",
       "fl_matriz                                     0\n",
       "de_natureza_juridica                          0\n",
       "sg_uf                                         0\n",
       "natureza_juridica_macro                       0\n",
       "de_ramo                                       0\n",
       "setor                                      1927\n",
       "idade_empresa_anos                            0\n",
       "idade_emp_cat                                 0\n",
       "fl_me                                         0\n",
       "fl_sa                                         0\n",
       "fl_epp                                        0\n",
       "fl_mei                                        0\n",
       "fl_ltda                                       0\n",
       "dt_situacao                                   6\n",
       "fl_st_especial                                0\n",
       "fl_email                                      0\n",
       "fl_telefone                                   0\n",
       "fl_rm                                         0\n",
       "nm_divisao                                 1927\n",
       "nm_segmento                                1927\n",
       "fl_spa                                     1927\n",
       "fl_antt                                    1927\n",
       "fl_veiculo                                 1927\n",
       "fl_optante_simples                        82713\n",
       "vl_total_veiculos_pesados_grupo            1927\n",
       "vl_total_veiculos_leves_grupo              1927\n",
       "fl_optante_simei                          82713\n",
       "sg_uf_matriz                               1939\n",
       "de_saude_tributaria                       14851\n",
       "de_saude_rescencia                        14851\n",
       "nu_meses_rescencia                        45276\n",
       "de_nivel_atividade                        11168\n",
       "fl_simples_irregular                       1927\n",
       "empsetorcensitariofaixarendapopulacao    143829\n",
       "nm_meso_regiao                            58698\n",
       "nm_micro_regiao                           58698\n",
       "fl_passivel_iss                            1927\n",
       "qt_socios                                115091\n",
       "qt_socios_pf                             115091\n",
       "qt_socios_pj                             115091\n",
       "idade_media_socios                       151602\n",
       "idade_maxima_socios                      151602\n",
       "idade_minima_socios                      151602\n",
       "qt_socios_st_regular                     154917\n",
       "de_faixa_faturamento_estimado             27513\n",
       "de_faixa_faturamento_estimado_grupo       27513\n",
       "vl_faturamento_estimado_aux               27513\n",
       "vl_faturamento_estimado_grupo_aux         27513\n",
       "qt_filiais                                    0\n",
       "dtype: int64"
      ]
     },
     "execution_count": 157,
     "metadata": {},
     "output_type": "execute_result"
    }
   ],
   "source": [
    "market_data.isna().sum()"
   ]
  },
  {
   "cell_type": "code",
   "execution_count": 121,
   "metadata": {},
   "outputs": [
    {
     "data": {
      "text/plain": [
       "id                                         0\n",
       "fl_matriz                                  0\n",
       "de_natureza_juridica                       0\n",
       "sg_uf                                      0\n",
       "natureza_juridica_macro                    0\n",
       "de_ramo                                    0\n",
       "setor                                      0\n",
       "idade_empresa_anos                         0\n",
       "idade_emp_cat                              0\n",
       "fl_me                                      0\n",
       "fl_sa                                      0\n",
       "fl_epp                                     0\n",
       "fl_mei                                     0\n",
       "fl_ltda                                    0\n",
       "dt_situacao                                0\n",
       "fl_st_especial                             0\n",
       "fl_email                                   0\n",
       "fl_telefone                                0\n",
       "fl_rm                                      0\n",
       "nm_divisao                                 0\n",
       "nm_segmento                                0\n",
       "fl_spa                                     0\n",
       "fl_antt                                    0\n",
       "fl_veiculo                                 0\n",
       "fl_optante_simples                       101\n",
       "vl_total_veiculos_pesados_grupo            0\n",
       "vl_total_veiculos_leves_grupo              0\n",
       "fl_optante_simei                         101\n",
       "sg_uf_matriz                               0\n",
       "de_saude_tributaria                       11\n",
       "de_saude_rescencia                        11\n",
       "nu_meses_rescencia                        47\n",
       "de_nivel_atividade                         4\n",
       "fl_simples_irregular                       0\n",
       "empsetorcensitariofaixarendapopulacao    150\n",
       "nm_meso_regiao                            64\n",
       "nm_micro_regiao                           64\n",
       "fl_passivel_iss                            0\n",
       "qt_socios                                147\n",
       "qt_socios_pf                             147\n",
       "qt_socios_pj                             147\n",
       "idade_media_socios                       193\n",
       "idade_maxima_socios                      193\n",
       "idade_minima_socios                      193\n",
       "qt_socios_st_regular                     195\n",
       "de_faixa_faturamento_estimado             25\n",
       "de_faixa_faturamento_estimado_grupo       25\n",
       "vl_faturamento_estimado_aux               25\n",
       "vl_faturamento_estimado_grupo_aux         25\n",
       "qt_filiais                                 0\n",
       "dtype: int64"
      ]
     },
     "execution_count": 121,
     "metadata": {},
     "output_type": "execute_result"
    }
   ],
   "source": [
    "port_1.isna().sum()"
   ]
  }
 ],
 "metadata": {
  "kernelspec": {
   "display_name": "Python 3",
   "language": "python",
   "name": "python3"
  },
  "language_info": {
   "codemirror_mode": {
    "name": "ipython",
    "version": 3
   },
   "file_extension": ".py",
   "mimetype": "text/x-python",
   "name": "python",
   "nbconvert_exporter": "python",
   "pygments_lexer": "ipython3",
   "version": "3.7.6"
  }
 },
 "nbformat": 4,
 "nbformat_minor": 2
}
